{
  "nbformat": 4,
  "nbformat_minor": 0,
  "metadata": {
    "colab": {
      "name": "checkpoint3.ipynb",
      "provenance": [],
      "collapsed_sections": [],
      "include_colab_link": true
    },
    "kernelspec": {
      "name": "python3",
      "display_name": "Python 3"
    },
    "language_info": {
      "name": "python"
    }
  },
  "cells": [
    {
      "cell_type": "markdown",
      "metadata": {
        "id": "view-in-github",
        "colab_type": "text"
      },
      "source": [
        "<a href=\"https://colab.research.google.com/github/emanuellex/Checkpoint-Classificadores/blob/main/checkpoint3.ipynb\" target=\"_parent\"><img src=\"https://colab.research.google.com/assets/colab-badge.svg\" alt=\"Open In Colab\"/></a>"
      ]
    },
    {
      "cell_type": "markdown",
      "metadata": {
        "id": "nynuq-iVOw-x"
      },
      "source": [
        "**Checkpoint 3 - IA&Chatbot**\n",
        "\n",
        "Classificadores\n",
        "\n",
        "Nomes:\n",
        "\n",
        "[Colocar nome e RM dos integrantes do grupo]"
      ]
    },
    {
      "cell_type": "markdown",
      "metadata": {
        "id": "SYoh9K4ePzMB"
      },
      "source": [
        "*Orientações:*\n",
        "\n",
        "Esse arquivo contem o modelo esperado de respostas para o Checkpoint 3. Podem ser acrescentadas algumas outras informações ou trechos com códigos, entretanto não esqueçam de responder todos os pontos que foram levantados a seguir\n",
        "\n",
        "Caso acontecer algum problema em carregador os dados com o fetch_openml, utilizar o arquivo csv disponibilizado para o Checkpoint 3."
      ]
    },
    {
      "cell_type": "markdown",
      "metadata": {
        "id": "ZRqlrqGYPMmR"
      },
      "source": [
        "## Exercícico id=40922"
      ]
    },
    {
      "cell_type": "markdown",
      "metadata": {
        "id": "QHn-vYdFPTq5"
      },
      "source": [
        "1. Carregar os dataset do exercício:"
      ]
    },
    {
      "cell_type": "code",
      "metadata": {
        "id": "6VWWhVeqaoLp"
      },
      "source": [
        "# Tratamento dos dados\n",
        "import numpy as np\n",
        "import pandas as pd\n",
        "from collections import Counter\n",
        "\n",
        "# Carregamento de dados do OpenML\n",
        "from sklearn.datasets import fetch_openml\n",
        "\n",
        "# Modelos de Machine Learning\n",
        "from sklearn.model_selection import train_test_split\n",
        "from sklearn.naive_bayes import GaussianNB\n",
        "from sklearn.neighbors import KNeighborsClassifier\n",
        "from sklearn.linear_model import LogisticRegression\n",
        "\n",
        "# Métricas de avaliação\n",
        "from sklearn.metrics import f1_score, roc_auc_score, roc_curve, ConfusionMatrixDisplay, RocCurveDisplay, confusion_matrix, classification_report, plot_roc_curve\n",
        "\n",
        "# importando os datasets padroes do sklearn\n",
        "from sklearn import datasets\n",
        "\n",
        "# importanto o fetch_openml para obter datasets online\n",
        "from sklearn.datasets import fetch_openml\n",
        "\n",
        "\n",
        "# Plot dos gráficos\n",
        "import matplotlib.pyplot as plt\n",
        "import matplotlib\n",
        "from matplotlib import colors\n",
        "import seaborn as sns"
      ],
      "execution_count": null,
      "outputs": []
    },
    {
      "cell_type": "code",
      "metadata": {
        "id": "G0PMl4lngY_N"
      },
      "source": [
        "dados = pd.read_csv(\"40922.csv\", sep = ',') "
      ],
      "execution_count": null,
      "outputs": []
    },
    {
      "cell_type": "code",
      "metadata": {
        "id": "_zWSAfzWPL7J"
      },
      "source": [
        "# Vamos carregar dados publicos\n",
        "dados = fetch_openml(data_id=40922)\n",
        "df = pd.DataFrame(dados.data,columns=dados.feature_names)"
      ],
      "execution_count": null,
      "outputs": []
    },
    {
      "cell_type": "markdown",
      "metadata": {
        "id": "V25pwzPJPY_P"
      },
      "source": [
        "2. Fazer a análise exploratória dos dados \n",
        "\n",
        "(Espera-se no minimo que seja verificado os tipos de dados envolvidos e suas médias, desvios padrões e distribuição dos dados - função describe())"
      ]
    },
    {
      "cell_type": "code",
      "metadata": {
        "id": "d64-mYx0Owec",
        "colab": {
          "base_uri": "https://localhost:8080/"
        },
        "outputId": "67f2a7c3-601c-4b69-84a7-ea81999f01bf"
      },
      "source": [
        "dados.info()"
      ],
      "execution_count": null,
      "outputs": [
        {
          "output_type": "stream",
          "name": "stdout",
          "text": [
            "<class 'pandas.core.frame.DataFrame'>\n",
            "RangeIndex: 88588 entries, 0 to 88587\n",
            "Data columns (total 7 columns):\n",
            " #   Column          Non-Null Count  Dtype  \n",
            "---  ------          --------------  -----  \n",
            " 0   acceleration_x  88588 non-null  float64\n",
            " 1   acceleration_y  88588 non-null  float64\n",
            " 2   acceleration_z  88588 non-null  float64\n",
            " 3   gyro_x          88588 non-null  float64\n",
            " 4   gyro_y          88588 non-null  float64\n",
            " 5   gyro_z          88588 non-null  float64\n",
            " 6   activity        88588 non-null  int64  \n",
            "dtypes: float64(6), int64(1)\n",
            "memory usage: 4.7 MB\n"
          ]
        }
      ]
    },
    {
      "cell_type": "code",
      "metadata": {
        "colab": {
          "base_uri": "https://localhost:8080/",
          "height": 204
        },
        "id": "5naWgEX1gzQ-",
        "outputId": "3a4ca358-1709-4763-c3aa-a30b0f293b6c"
      },
      "source": [
        "dados.head()"
      ],
      "execution_count": null,
      "outputs": [
        {
          "output_type": "execute_result",
          "data": {
            "text/html": [
              "<div>\n",
              "<style scoped>\n",
              "    .dataframe tbody tr th:only-of-type {\n",
              "        vertical-align: middle;\n",
              "    }\n",
              "\n",
              "    .dataframe tbody tr th {\n",
              "        vertical-align: top;\n",
              "    }\n",
              "\n",
              "    .dataframe thead th {\n",
              "        text-align: right;\n",
              "    }\n",
              "</style>\n",
              "<table border=\"1\" class=\"dataframe\">\n",
              "  <thead>\n",
              "    <tr style=\"text-align: right;\">\n",
              "      <th></th>\n",
              "      <th>acceleration_x</th>\n",
              "      <th>acceleration_y</th>\n",
              "      <th>acceleration_z</th>\n",
              "      <th>gyro_x</th>\n",
              "      <th>gyro_y</th>\n",
              "      <th>gyro_z</th>\n",
              "      <th>activity</th>\n",
              "    </tr>\n",
              "  </thead>\n",
              "  <tbody>\n",
              "    <tr>\n",
              "      <th>0</th>\n",
              "      <td>0.2650</td>\n",
              "      <td>-0.7814</td>\n",
              "      <td>-0.0076</td>\n",
              "      <td>-0.0590</td>\n",
              "      <td>0.0325</td>\n",
              "      <td>-29.2960</td>\n",
              "      <td>0</td>\n",
              "    </tr>\n",
              "    <tr>\n",
              "      <th>1</th>\n",
              "      <td>0.6722</td>\n",
              "      <td>-11.2330</td>\n",
              "      <td>-0.2344</td>\n",
              "      <td>-0.1757</td>\n",
              "      <td>0.0208</td>\n",
              "      <td>0.1269</td>\n",
              "      <td>0</td>\n",
              "    </tr>\n",
              "    <tr>\n",
              "      <th>2</th>\n",
              "      <td>0.4399</td>\n",
              "      <td>-14.8170</td>\n",
              "      <td>0.0722</td>\n",
              "      <td>-0.9105</td>\n",
              "      <td>0.1063</td>\n",
              "      <td>-24.3670</td>\n",
              "      <td>0</td>\n",
              "    </tr>\n",
              "    <tr>\n",
              "      <th>3</th>\n",
              "      <td>0.3031</td>\n",
              "      <td>-0.8125</td>\n",
              "      <td>0.0888</td>\n",
              "      <td>0.1199</td>\n",
              "      <td>-0.4099</td>\n",
              "      <td>-29.3360</td>\n",
              "      <td>0</td>\n",
              "    </tr>\n",
              "    <tr>\n",
              "      <th>4</th>\n",
              "      <td>0.4814</td>\n",
              "      <td>-0.9312</td>\n",
              "      <td>0.0359</td>\n",
              "      <td>0.0527</td>\n",
              "      <td>0.4379</td>\n",
              "      <td>24.9220</td>\n",
              "      <td>0</td>\n",
              "    </tr>\n",
              "  </tbody>\n",
              "</table>\n",
              "</div>"
            ],
            "text/plain": [
              "   acceleration_x  acceleration_y  acceleration_z  ...  gyro_y   gyro_z  activity\n",
              "0          0.2650         -0.7814         -0.0076  ...  0.0325 -29.2960         0\n",
              "1          0.6722        -11.2330         -0.2344  ...  0.0208   0.1269         0\n",
              "2          0.4399        -14.8170          0.0722  ...  0.1063 -24.3670         0\n",
              "3          0.3031         -0.8125          0.0888  ... -0.4099 -29.3360         0\n",
              "4          0.4814         -0.9312          0.0359  ...  0.4379  24.9220         0\n",
              "\n",
              "[5 rows x 7 columns]"
            ]
          },
          "metadata": {},
          "execution_count": 10
        }
      ]
    },
    {
      "cell_type": "code",
      "metadata": {
        "colab": {
          "base_uri": "https://localhost:8080/",
          "height": 297
        },
        "id": "Wj9bhLavg368",
        "outputId": "de4041a4-478e-4b5e-9d36-509bb50991a6"
      },
      "source": [
        "dados.describe()\n"
      ],
      "execution_count": null,
      "outputs": [
        {
          "output_type": "execute_result",
          "data": {
            "text/html": [
              "<div>\n",
              "<style scoped>\n",
              "    .dataframe tbody tr th:only-of-type {\n",
              "        vertical-align: middle;\n",
              "    }\n",
              "\n",
              "    .dataframe tbody tr th {\n",
              "        vertical-align: top;\n",
              "    }\n",
              "\n",
              "    .dataframe thead th {\n",
              "        text-align: right;\n",
              "    }\n",
              "</style>\n",
              "<table border=\"1\" class=\"dataframe\">\n",
              "  <thead>\n",
              "    <tr style=\"text-align: right;\">\n",
              "      <th></th>\n",
              "      <th>acceleration_x</th>\n",
              "      <th>acceleration_y</th>\n",
              "      <th>acceleration_z</th>\n",
              "      <th>gyro_x</th>\n",
              "      <th>gyro_y</th>\n",
              "      <th>gyro_z</th>\n",
              "      <th>activity</th>\n",
              "    </tr>\n",
              "  </thead>\n",
              "  <tbody>\n",
              "    <tr>\n",
              "      <th>count</th>\n",
              "      <td>88588.000000</td>\n",
              "      <td>88588.000000</td>\n",
              "      <td>88588.000000</td>\n",
              "      <td>88588.000000</td>\n",
              "      <td>88588.000000</td>\n",
              "      <td>88588.000000</td>\n",
              "      <td>88588.000000</td>\n",
              "    </tr>\n",
              "    <tr>\n",
              "      <th>mean</th>\n",
              "      <td>-0.735403</td>\n",
              "      <td>-3.425864</td>\n",
              "      <td>-1.585894</td>\n",
              "      <td>0.005690</td>\n",
              "      <td>0.285645</td>\n",
              "      <td>0.281254</td>\n",
              "      <td>0.500801</td>\n",
              "    </tr>\n",
              "    <tr>\n",
              "      <th>std</th>\n",
              "      <td>9.419857</td>\n",
              "      <td>5.633842</td>\n",
              "      <td>4.631486</td>\n",
              "      <td>11.779596</td>\n",
              "      <td>11.209552</td>\n",
              "      <td>18.821379</td>\n",
              "      <td>0.500002</td>\n",
              "    </tr>\n",
              "    <tr>\n",
              "      <th>min</th>\n",
              "      <td>-53.505000</td>\n",
              "      <td>-32.990000</td>\n",
              "      <td>-37.538000</td>\n",
              "      <td>-44.306000</td>\n",
              "      <td>-74.647000</td>\n",
              "      <td>-94.800000</td>\n",
              "      <td>0.000000</td>\n",
              "    </tr>\n",
              "    <tr>\n",
              "      <th>25%</th>\n",
              "      <td>-0.381800</td>\n",
              "      <td>-10.335000</td>\n",
              "      <td>-0.376000</td>\n",
              "      <td>-0.920700</td>\n",
              "      <td>-0.644825</td>\n",
              "      <td>-13.451250</td>\n",
              "      <td>0.000000</td>\n",
              "    </tr>\n",
              "    <tr>\n",
              "      <th>50%</th>\n",
              "      <td>-0.059500</td>\n",
              "      <td>-0.759100</td>\n",
              "      <td>-0.221000</td>\n",
              "      <td>0.018700</td>\n",
              "      <td>0.039300</td>\n",
              "      <td>0.006900</td>\n",
              "      <td>1.000000</td>\n",
              "    </tr>\n",
              "    <tr>\n",
              "      <th>75%</th>\n",
              "      <td>0.355500</td>\n",
              "      <td>-0.241775</td>\n",
              "      <td>-0.085900</td>\n",
              "      <td>0.888800</td>\n",
              "      <td>0.733700</td>\n",
              "      <td>13.982000</td>\n",
              "      <td>1.000000</td>\n",
              "    </tr>\n",
              "    <tr>\n",
              "      <th>max</th>\n",
              "      <td>56.033000</td>\n",
              "      <td>26.680000</td>\n",
              "      <td>16.403000</td>\n",
              "      <td>48.742000</td>\n",
              "      <td>84.980000</td>\n",
              "      <td>112.662000</td>\n",
              "      <td>1.000000</td>\n",
              "    </tr>\n",
              "  </tbody>\n",
              "</table>\n",
              "</div>"
            ],
            "text/plain": [
              "       acceleration_x  acceleration_y  ...        gyro_z      activity\n",
              "count    88588.000000    88588.000000  ...  88588.000000  88588.000000\n",
              "mean        -0.735403       -3.425864  ...      0.281254      0.500801\n",
              "std          9.419857        5.633842  ...     18.821379      0.500002\n",
              "min        -53.505000      -32.990000  ...    -94.800000      0.000000\n",
              "25%         -0.381800      -10.335000  ...    -13.451250      0.000000\n",
              "50%         -0.059500       -0.759100  ...      0.006900      1.000000\n",
              "75%          0.355500       -0.241775  ...     13.982000      1.000000\n",
              "max         56.033000       26.680000  ...    112.662000      1.000000\n",
              "\n",
              "[8 rows x 7 columns]"
            ]
          },
          "metadata": {},
          "execution_count": 19
        }
      ]
    },
    {
      "cell_type": "code",
      "metadata": {
        "colab": {
          "base_uri": "https://localhost:8080/"
        },
        "id": "8Qp_AzUpg3_D",
        "outputId": "ed0e9e78-cd06-49b4-f21b-cf40f392aabb"
      },
      "source": [
        "dados.shape"
      ],
      "execution_count": null,
      "outputs": [
        {
          "output_type": "execute_result",
          "data": {
            "text/plain": [
              "(88588, 7)"
            ]
          },
          "metadata": {},
          "execution_count": 18
        }
      ]
    },
    {
      "cell_type": "code",
      "metadata": {
        "colab": {
          "base_uri": "https://localhost:8080/",
          "height": 886
        },
        "id": "sSZDfPMbg4Ch",
        "outputId": "8c163bf9-56e3-49f6-eea7-356aa9bbbb26"
      },
      "source": [
        "dados.hist(figsize=(12,12))"
      ],
      "execution_count": null,
      "outputs": [
        {
          "output_type": "execute_result",
          "data": {
            "text/plain": [
              "array([[<matplotlib.axes._subplots.AxesSubplot object at 0x7f8102005790>,\n",
              "        <matplotlib.axes._subplots.AxesSubplot object at 0x7f8101fb8e10>,\n",
              "        <matplotlib.axes._subplots.AxesSubplot object at 0x7f8101ebe490>],\n",
              "       [<matplotlib.axes._subplots.AxesSubplot object at 0x7f8101e73b10>,\n",
              "        <matplotlib.axes._subplots.AxesSubplot object at 0x7f8101e361d0>,\n",
              "        <matplotlib.axes._subplots.AxesSubplot object at 0x7f8101dea850>],\n",
              "       [<matplotlib.axes._subplots.AxesSubplot object at 0x7f8101da0f50>,\n",
              "        <matplotlib.axes._subplots.AxesSubplot object at 0x7f8101d63550>,\n",
              "        <matplotlib.axes._subplots.AxesSubplot object at 0x7f8101d63590>]],\n",
              "      dtype=object)"
            ]
          },
          "metadata": {},
          "execution_count": 14
        },
        {
          "output_type": "display_data",
          "data": {
            "image/png": "[encoded data removed]",
            "text/plain": [
              "<Figure size 864x864 with 9 Axes>"
            ]
          },
          "metadata": {
            "needs_background": "light"
          }
        }
      ]
    },
    {
      "cell_type": "markdown",
      "metadata": {
        "id": "3XWgk50QPoZg"
      },
      "source": [
        "[OBRIGATÓRIO: Explicar quais features estão envolvidas e o seu respectivo target\n",
        "dados.info() informação sobre os tipos dos dados\n",
        "\n",
        "dados.head() : os cinco primeiros dados; \n",
        "\n",
        "dados.hist(figsize=(12,12)) : obter um histograma simples dos dados;\n",
        "\n",
        "dados.shape: obter as colunas e as linhas;\n",
        "\n",
        "dados.describe() uma descrição mais detalha do dados;\n"
      ]
    },
    {
      "cell_type": "markdown",
      "metadata": {
        "id": "FRd8_b1wRdEr"
      },
      "source": [
        "3. Dividir os dados em conjunto de treinamento e treinar os modelos"
      ]
    },
    {
      "cell_type": "code",
      "metadata": {
        "id": "uuAyR8aIRtkq"
      },
      "source": [
        "from sklearn.model_selection import train_test_split\n",
        "x = dados.drop(columns=['activity']).values \n",
        "y = dados.activity.values\n",
        "\n",
        "x_train, x_test, y_train, y_test = train_test_split(x, y,\n",
        "                     test_size = 0.3, random_state = 44)\n"
      ],
      "execution_count": null,
      "outputs": []
    },
    {
      "cell_type": "code",
      "metadata": {
        "id": "muI52ti4jVxZ"
      },
      "source": [
        "from sklearn.linear_model import LinearRegression\n",
        "lin_regression = LinearRegression()\n",
        "lin_regression.fit(x_train,y_train)"
      ],
      "execution_count": null,
      "outputs": []
    },
    {
      "cell_type": "code",
      "metadata": {
        "id": "Ai2K3Kl8lj1H"
      },
      "source": [
        "from sklearn.discriminant_analysis import LinearDiscriminantAnalysis"
      ],
      "execution_count": null,
      "outputs": []
    },
    {
      "cell_type": "code",
      "metadata": {
        "colab": {
          "base_uri": "https://localhost:8080/"
        },
        "id": "JVGxSswklj3L",
        "outputId": "f837a177-cfad-4713-c988-7623ebbc9726"
      },
      "source": [
        "a = LinearDiscriminantAnalysis()  \n",
        "\n",
        "a.fit(x_train,y_train) "
      ],
      "execution_count": null,
      "outputs": [
        {
          "output_type": "execute_result",
          "data": {
            "text/plain": [
              "LinearDiscriminantAnalysis(n_components=None, priors=None, shrinkage=None,\n",
              "                           solver='svd', store_covariance=False, tol=0.0001)"
            ]
          },
          "metadata": {},
          "execution_count": 37
        }
      ]
    },
    {
      "cell_type": "markdown",
      "metadata": {
        "id": "rhRH_H19Rvk6"
      },
      "source": [
        "4. Metricas de desempenho \n",
        "\n",
        "[Precisão, Revocação, Acurácia e F1-Score]"
      ]
    },
    {
      "cell_type": "code",
      "metadata": {
        "id": "CIH3aegssFc5"
      },
      "source": [
        "import pandas as pd \n",
        "from sklearn.preprocessing import LabelEncoder \n",
        "from sklearn.preprocessing import MinMaxScaler \n",
        "from sklearn.neighbors import KNeighborsClassifier \n",
        "from sklearn.model_selection import train_test_split \n",
        "from sklearn.metrics import classification_report \n",
        "from sklearn.metrics import accuracy_score \n",
        "from sklearn.metrics import precision_score \n",
        "from sklearn.metrics import recall_score \n",
        "from sklearn.metrics import f1_score \n",
        "from matplotlib import pyplot "
      ],
      "execution_count": null,
      "outputs": []
    },
    {
      "cell_type": "code",
      "metadata": {
        "colab": {
          "base_uri": "https://localhost:8080/"
        },
        "id": "DGDxyiResFe0",
        "outputId": "29ff56e0-616c-4452-8b06-91e0ed3e87cd"
      },
      "source": [
        "knn = KNeighborsClassifier()\n",
        "knn.fit(x_train, y_train)"
      ],
      "execution_count": null,
      "outputs": [
        {
          "output_type": "execute_result",
          "data": {
            "text/plain": [
              "KNeighborsClassifier(algorithm='auto', leaf_size=30, metric='minkowski',\n",
              "                     metric_params=None, n_jobs=None, n_neighbors=5, p=2,\n",
              "                     weights='uniform')"
            ]
          },
          "metadata": {},
          "execution_count": 79
        }
      ]
    },
    {
      "cell_type": "code",
      "metadata": {
        "colab": {
          "base_uri": "https://localhost:8080/"
        },
        "id": "bYVPFI2msW-2",
        "outputId": "93bbf3d4-359d-461d-b612-3d438559023c"
      },
      "source": [
        "acuracia = accuracy_score(y_test, resultado_knn)\n",
        "print('Acurácia: %f' % acuracia)"
      ],
      "execution_count": null,
      "outputs": [
        {
          "output_type": "stream",
          "name": "stdout",
          "text": [
            "Acurácia: 0.956880\n"
          ]
        }
      ]
    },
    {
      "cell_type": "code",
      "metadata": {
        "colab": {
          "base_uri": "https://localhost:8080/"
        },
        "id": "Otia2YcRtW9w",
        "outputId": "fe0d88ef-bbbf-426e-9951-b5b044a7b39e"
      },
      "source": [
        "50/58"
      ],
      "execution_count": null,
      "outputs": [
        {
          "output_type": "execute_result",
          "data": {
            "text/plain": [
              "0.8620689655172413"
            ]
          },
          "metadata": {},
          "execution_count": 81
        }
      ]
    },
    {
      "cell_type": "code",
      "metadata": {
        "colab": {
          "base_uri": "https://localhost:8080/"
        },
        "id": "cEQ8APqWtXBn",
        "outputId": "53706445-7f10-41d4-d4b6-1fdfaf54c3d0"
      },
      "source": [
        "precision = precision_score(y_test, resultado_knn)\n",
        "print('Precision: %f' % precision)"
      ],
      "execution_count": null,
      "outputs": [
        {
          "output_type": "stream",
          "name": "stdout",
          "text": [
            "Precision: 0.969706\n"
          ]
        }
      ]
    },
    {
      "cell_type": "code",
      "metadata": {
        "colab": {
          "base_uri": "https://localhost:8080/"
        },
        "id": "Ek0C2MT-tmR-",
        "outputId": "8b8f1391-4810-4019-dace-64e048204455"
      },
      "source": [
        "f1 = f1_score(y_test, resultado_knn)\n",
        "print('F1-Score: %f' % f1)"
      ],
      "execution_count": null,
      "outputs": [
        {
          "output_type": "stream",
          "name": "stdout",
          "text": [
            "F1-Score: 0.956223\n"
          ]
        }
      ]
    },
    {
      "cell_type": "code",
      "metadata": {
        "colab": {
          "base_uri": "https://localhost:8080/"
        },
        "id": "dHinMVzwuOB-",
        "outputId": "2c59ff90-c967-4e24-b225-8205d319e730"
      },
      "source": [
        "recall = recall_score(y_test, resultado_knn)\n",
        "print('Recall: %f' % recall)"
      ],
      "execution_count": null,
      "outputs": [
        {
          "output_type": "stream",
          "name": "stdout",
          "text": [
            "Recall: 0.943109\n"
          ]
        }
      ]
    },
    {
      "cell_type": "code",
      "metadata": {
        "colab": {
          "base_uri": "https://localhost:8080/"
        },
        "id": "KUs_C-K1uOEM",
        "outputId": "a523a0c9-c68f-414f-d1af-244735cb11cc"
      },
      "source": [
        "print(classification_report(y_test, resultado_knn))"
      ],
      "execution_count": null,
      "outputs": [
        {
          "output_type": "stream",
          "name": "stdout",
          "text": [
            "              precision    recall  f1-score   support\n",
            "\n",
            "           0       0.94      0.97      0.96     13306\n",
            "           1       0.97      0.94      0.96     13271\n",
            "\n",
            "    accuracy                           0.96     26577\n",
            "   macro avg       0.96      0.96      0.96     26577\n",
            "weighted avg       0.96      0.96      0.96     26577\n",
            "\n"
          ]
        }
      ]
    },
    {
      "cell_type": "code",
      "metadata": {
        "colab": {
          "base_uri": "https://localhost:8080/"
        },
        "id": "edATBCADufAe",
        "outputId": "a858de1e-e565-44f7-b0e2-2f3aae8b9b50"
      },
      "source": [
        "auc = roc_auc_score(y_test, resultado_knn)\n",
        "print('AUC: %.3f' % auc)"
      ],
      "execution_count": null,
      "outputs": [
        {
          "output_type": "stream",
          "name": "stdout",
          "text": [
            "AUC: 0.957\n"
          ]
        }
      ]
    }
  ]
}